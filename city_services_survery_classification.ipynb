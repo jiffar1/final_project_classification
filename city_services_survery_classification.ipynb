{
 "cells": [
  {
   "cell_type": "markdown",
   "metadata": {},
   "source": [
    "# Logistic Regression on City Service Satisfaction Survey"
   ]
  },
  {
   "cell_type": "markdown",
   "metadata": {},
   "source": [
    "The City of Somerville sends out a happiness survey to a random sample of Somerville residents asking them to rate their personal happiness and their satisfaction with City services. This combined dataset includes the survey responses from 2011, 2013, and 2015"
   ]
  },
  {
   "cell_type": "markdown",
   "metadata": {},
   "source": [
    "\n",
    "The Attributes (features) Information:\n",
    "\n",
    "X1 = the availability of information about the city services\n",
    "\n",
    "X2 = the cost of housing \n",
    "\n",
    "X3 = the overall quality of public schools \n",
    "\n",
    "X4 = your trust in the local police \n",
    "\n",
    "X5 = the maintenance of streets and sidewalks \n",
    "\n",
    "X6 = the availability of social community events \n",
    "\n",
    "All Attributes X1 to X6 have values 1 to 5.\n",
    "\n",
    "The Target information:\n",
    "\n",
    "D = decision attribute (D) with values 0 (unhappy) and 1 (happy) \n",
    "\n",
    "'''\n",
    "    "
   ]
  },
  {
   "cell_type": "markdown",
   "metadata": {},
   "source": [
    "# The task for me was creating a classifier that can predict if a person is happy or unhappy given their response for the city service features"
   ]
  },
  {
   "cell_type": "code",
   "execution_count": 2,
   "metadata": {},
   "outputs": [
    {
     "data": {
      "text/plain": [
       "'/Users/jja'"
      ]
     },
     "execution_count": 2,
     "metadata": {},
     "output_type": "execute_result"
    }
   ],
   "source": [
    "pwd"
   ]
  },
  {
   "cell_type": "code",
   "execution_count": 3,
   "metadata": {},
   "outputs": [
    {
     "name": "stdout",
     "output_type": "stream",
     "text": [
      "/Users/jja/Downloads\n"
     ]
    }
   ],
   "source": [
    "cd Downloads"
   ]
  },
  {
   "cell_type": "code",
   "execution_count": 54,
   "metadata": {},
   "outputs": [],
   "source": [
    "import pandas as pd\n",
    "data = pd.read_csv('happiness.csv' )"
   ]
  },
  {
   "cell_type": "code",
   "execution_count": 55,
   "metadata": {},
   "outputs": [
    {
     "data": {
      "text/plain": [
       "(143, 7)"
      ]
     },
     "execution_count": 55,
     "metadata": {},
     "output_type": "execute_result"
    }
   ],
   "source": [
    "#The data has 143 rows and 7 columns\n",
    "#This corresponds to the 6 features and 1 target variable\n",
    "data.shape"
   ]
  },
  {
   "cell_type": "code",
   "execution_count": 56,
   "metadata": {},
   "outputs": [
    {
     "data": {
      "text/html": [
       "<div>\n",
       "<style scoped>\n",
       "    .dataframe tbody tr th:only-of-type {\n",
       "        vertical-align: middle;\n",
       "    }\n",
       "\n",
       "    .dataframe tbody tr th {\n",
       "        vertical-align: top;\n",
       "    }\n",
       "\n",
       "    .dataframe thead th {\n",
       "        text-align: right;\n",
       "    }\n",
       "</style>\n",
       "<table border=\"1\" class=\"dataframe\">\n",
       "  <thead>\n",
       "    <tr style=\"text-align: right;\">\n",
       "      <th></th>\n",
       "      <th>D</th>\n",
       "      <th>X1</th>\n",
       "      <th>X2</th>\n",
       "      <th>X3</th>\n",
       "      <th>X4</th>\n",
       "      <th>X5</th>\n",
       "      <th>X6</th>\n",
       "    </tr>\n",
       "  </thead>\n",
       "  <tbody>\n",
       "    <tr>\n",
       "      <th>0</th>\n",
       "      <td>0</td>\n",
       "      <td>3</td>\n",
       "      <td>3</td>\n",
       "      <td>3</td>\n",
       "      <td>4</td>\n",
       "      <td>2</td>\n",
       "      <td>4</td>\n",
       "    </tr>\n",
       "    <tr>\n",
       "      <th>1</th>\n",
       "      <td>0</td>\n",
       "      <td>3</td>\n",
       "      <td>2</td>\n",
       "      <td>3</td>\n",
       "      <td>5</td>\n",
       "      <td>4</td>\n",
       "      <td>3</td>\n",
       "    </tr>\n",
       "    <tr>\n",
       "      <th>2</th>\n",
       "      <td>1</td>\n",
       "      <td>5</td>\n",
       "      <td>3</td>\n",
       "      <td>3</td>\n",
       "      <td>3</td>\n",
       "      <td>3</td>\n",
       "      <td>5</td>\n",
       "    </tr>\n",
       "    <tr>\n",
       "      <th>3</th>\n",
       "      <td>0</td>\n",
       "      <td>5</td>\n",
       "      <td>4</td>\n",
       "      <td>3</td>\n",
       "      <td>3</td>\n",
       "      <td>3</td>\n",
       "      <td>5</td>\n",
       "    </tr>\n",
       "    <tr>\n",
       "      <th>4</th>\n",
       "      <td>0</td>\n",
       "      <td>5</td>\n",
       "      <td>4</td>\n",
       "      <td>3</td>\n",
       "      <td>3</td>\n",
       "      <td>3</td>\n",
       "      <td>5</td>\n",
       "    </tr>\n",
       "  </tbody>\n",
       "</table>\n",
       "</div>"
      ],
      "text/plain": [
       "   D  X1  X2  X3  X4  X5  X6\n",
       "0  0   3   3   3   4   2   4\n",
       "1  0   3   2   3   5   4   3\n",
       "2  1   5   3   3   3   3   5\n",
       "3  0   5   4   3   3   3   5\n",
       "4  0   5   4   3   3   3   5"
      ]
     },
     "execution_count": 56,
     "metadata": {},
     "output_type": "execute_result"
    }
   ],
   "source": [
    "#We take a look at the data\n",
    "data.head()"
   ]
  },
  {
   "cell_type": "code",
   "execution_count": 57,
   "metadata": {},
   "outputs": [
    {
     "data": {
      "text/plain": [
       "(143, 7)"
      ]
     },
     "execution_count": 57,
     "metadata": {},
     "output_type": "execute_result"
    }
   ],
   "source": [
    "#I check and remove any missing values\n",
    "data = data.dropna()\n",
    "data.shape\n",
    "#The dataframe is still the same length. So no missing values"
   ]
  },
  {
   "cell_type": "code",
   "execution_count": 67,
   "metadata": {},
   "outputs": [],
   "source": [
    "#Here I will change the column names to be more descriptive than just a bunch of Xs\n",
    "data.columns =['happy','service_information', 'housing_cost', 'public_schools', 'local_police', 'streets_sidewalks', 'community_events']"
   ]
  },
  {
   "cell_type": "code",
   "execution_count": 68,
   "metadata": {},
   "outputs": [
    {
     "name": "stdout",
     "output_type": "stream",
     "text": [
      "   service_information  housing_cost  public_schools  local_police  \\\n",
      "0                    3             3               3             4   \n",
      "1                    3             2               3             5   \n",
      "2                    5             3               3             3   \n",
      "3                    5             4               3             3   \n",
      "4                    5             4               3             3   \n",
      "\n",
      "   streets_sidewalks  community_events  \n",
      "0                  2                 4  \n",
      "1                  4                 3  \n",
      "2                  3                 5  \n",
      "3                  3                 5  \n",
      "4                  3                 5  \n",
      "   happy\n",
      "0      0\n",
      "1      0\n",
      "2      1\n",
      "3      0\n",
      "4      0\n"
     ]
    }
   ],
   "source": [
    "#I split the data into features and targets:\n",
    "data_features = data.iloc[:, 1:]\n",
    "print(data_features.head())\n",
    "data_target = data.iloc[:,[0]] #Wrap the 0 in [] to return a dataframe\n",
    "print(data_target.head())"
   ]
  },
  {
   "cell_type": "code",
   "execution_count": 74,
   "metadata": {},
   "outputs": [
    {
     "data": {
      "text/html": [
       "<div>\n",
       "<style scoped>\n",
       "    .dataframe tbody tr th:only-of-type {\n",
       "        vertical-align: middle;\n",
       "    }\n",
       "\n",
       "    .dataframe tbody tr th {\n",
       "        vertical-align: top;\n",
       "    }\n",
       "\n",
       "    .dataframe thead th {\n",
       "        text-align: right;\n",
       "    }\n",
       "</style>\n",
       "<table border=\"1\" class=\"dataframe\">\n",
       "  <thead>\n",
       "    <tr style=\"text-align: right;\">\n",
       "      <th></th>\n",
       "      <th>happy</th>\n",
       "      <th>service_information</th>\n",
       "      <th>housing_cost</th>\n",
       "      <th>public_schools</th>\n",
       "      <th>local_police</th>\n",
       "      <th>streets_sidewalks</th>\n",
       "      <th>community_events</th>\n",
       "    </tr>\n",
       "  </thead>\n",
       "  <tbody>\n",
       "    <tr>\n",
       "      <th>count</th>\n",
       "      <td>143.000000</td>\n",
       "      <td>143.000000</td>\n",
       "      <td>143.000000</td>\n",
       "      <td>143.000000</td>\n",
       "      <td>143.000000</td>\n",
       "      <td>143.000000</td>\n",
       "      <td>143.000000</td>\n",
       "    </tr>\n",
       "    <tr>\n",
       "      <th>mean</th>\n",
       "      <td>0.538462</td>\n",
       "      <td>4.314685</td>\n",
       "      <td>2.538462</td>\n",
       "      <td>3.265734</td>\n",
       "      <td>3.699301</td>\n",
       "      <td>3.615385</td>\n",
       "      <td>4.216783</td>\n",
       "    </tr>\n",
       "    <tr>\n",
       "      <th>std</th>\n",
       "      <td>0.500271</td>\n",
       "      <td>0.799820</td>\n",
       "      <td>1.118155</td>\n",
       "      <td>0.992586</td>\n",
       "      <td>0.888383</td>\n",
       "      <td>1.131639</td>\n",
       "      <td>0.848693</td>\n",
       "    </tr>\n",
       "    <tr>\n",
       "      <th>min</th>\n",
       "      <td>0.000000</td>\n",
       "      <td>1.000000</td>\n",
       "      <td>1.000000</td>\n",
       "      <td>1.000000</td>\n",
       "      <td>1.000000</td>\n",
       "      <td>1.000000</td>\n",
       "      <td>1.000000</td>\n",
       "    </tr>\n",
       "    <tr>\n",
       "      <th>25%</th>\n",
       "      <td>0.000000</td>\n",
       "      <td>4.000000</td>\n",
       "      <td>2.000000</td>\n",
       "      <td>3.000000</td>\n",
       "      <td>3.000000</td>\n",
       "      <td>3.000000</td>\n",
       "      <td>4.000000</td>\n",
       "    </tr>\n",
       "    <tr>\n",
       "      <th>50%</th>\n",
       "      <td>1.000000</td>\n",
       "      <td>5.000000</td>\n",
       "      <td>3.000000</td>\n",
       "      <td>3.000000</td>\n",
       "      <td>4.000000</td>\n",
       "      <td>4.000000</td>\n",
       "      <td>4.000000</td>\n",
       "    </tr>\n",
       "    <tr>\n",
       "      <th>75%</th>\n",
       "      <td>1.000000</td>\n",
       "      <td>5.000000</td>\n",
       "      <td>3.000000</td>\n",
       "      <td>4.000000</td>\n",
       "      <td>4.000000</td>\n",
       "      <td>4.000000</td>\n",
       "      <td>5.000000</td>\n",
       "    </tr>\n",
       "    <tr>\n",
       "      <th>max</th>\n",
       "      <td>1.000000</td>\n",
       "      <td>5.000000</td>\n",
       "      <td>5.000000</td>\n",
       "      <td>5.000000</td>\n",
       "      <td>5.000000</td>\n",
       "      <td>5.000000</td>\n",
       "      <td>5.000000</td>\n",
       "    </tr>\n",
       "  </tbody>\n",
       "</table>\n",
       "</div>"
      ],
      "text/plain": [
       "            happy  service_information  housing_cost  public_schools  \\\n",
       "count  143.000000           143.000000    143.000000      143.000000   \n",
       "mean     0.538462             4.314685      2.538462        3.265734   \n",
       "std      0.500271             0.799820      1.118155        0.992586   \n",
       "min      0.000000             1.000000      1.000000        1.000000   \n",
       "25%      0.000000             4.000000      2.000000        3.000000   \n",
       "50%      1.000000             5.000000      3.000000        3.000000   \n",
       "75%      1.000000             5.000000      3.000000        4.000000   \n",
       "max      1.000000             5.000000      5.000000        5.000000   \n",
       "\n",
       "       local_police  streets_sidewalks  community_events  \n",
       "count    143.000000         143.000000        143.000000  \n",
       "mean       3.699301           3.615385          4.216783  \n",
       "std        0.888383           1.131639          0.848693  \n",
       "min        1.000000           1.000000          1.000000  \n",
       "25%        3.000000           3.000000          4.000000  \n",
       "50%        4.000000           4.000000          4.000000  \n",
       "75%        4.000000           4.000000          5.000000  \n",
       "max        5.000000           5.000000          5.000000  "
      ]
     },
     "execution_count": 74,
     "metadata": {},
     "output_type": "execute_result"
    }
   ],
   "source": [
    "#I aggregate the data to see the mean:\n",
    "#People have highest satisfaction wth service information (mean of 4.31 out of 5), \n",
    "#followed by community events(mean 4.22).\n",
    "#People were least satisfied with housing cost (mean of 2.54)\n",
    "data.describe()"
   ]
  },
  {
   "cell_type": "code",
   "execution_count": 71,
   "metadata": {},
   "outputs": [
    {
     "data": {
      "text/plain": [
       "1    77\n",
       "0    66\n",
       "Name: happy, dtype: int64"
      ]
     },
     "execution_count": 71,
     "metadata": {},
     "output_type": "execute_result"
    }
   ],
   "source": [
    "#We see that slightly more people were happy rather than unhappy with their city services,\n",
    "#But we almost have a 50/50 split\n",
    "data_target['happy'].value_counts()"
   ]
  },
  {
   "cell_type": "code",
   "execution_count": 61,
   "metadata": {},
   "outputs": [],
   "source": [
    "import seaborn as sns\n",
    "import matplotlib.pyplot as plt"
   ]
  },
  {
   "cell_type": "code",
   "execution_count": 72,
   "metadata": {},
   "outputs": [
    {
     "data": {
      "image/png": "[encoded data removed]",
      "text/plain": [
       "<Figure size 432x288 with 1 Axes>"
      ]
     },
     "metadata": {},
     "output_type": "display_data"
    }
   ],
   "source": [
    "sns.countplot(x='happy', data = data_target, palette = 'hls')\n",
    "plt.show()"
   ]
  },
  {
   "cell_type": "code",
   "execution_count": 75,
   "metadata": {},
   "outputs": [],
   "source": []
  },
  {
   "cell_type": "code",
   "execution_count": 82,
   "metadata": {},
   "outputs": [
    {
     "data": {
      "text/plain": [
       "<seaborn.axisgrid.PairGrid at 0x1a23a58198>"
      ]
     },
     "execution_count": 82,
     "metadata": {},
     "output_type": "execute_result"
    },
    {
     "data": {
      "image/png": "[encoded data removed]",
      "text/plain": [
       "<Figure size 1260x1260 with 56 Axes>"
      ]
     },
     "metadata": {},
     "output_type": "display_data"
    }
   ],
   "source": [
    "#I draw a pairplot to see if happiness is most related to a specific feature\n",
    "#The top row is where I focus.\n",
    "#Across all the features there is both happy and unhappy ratings for ratings of 1 to 5 for the features.\n",
    "#No clear conclusions from pairplot\n",
    "sns.pairplot(data)"
   ]
  },
  {
   "cell_type": "code",
   "execution_count": 85,
   "metadata": {},
   "outputs": [
    {
     "data": {
      "text/html": [
       "<div>\n",
       "<style scoped>\n",
       "    .dataframe tbody tr th:only-of-type {\n",
       "        vertical-align: middle;\n",
       "    }\n",
       "\n",
       "    .dataframe tbody tr th {\n",
       "        vertical-align: top;\n",
       "    }\n",
       "\n",
       "    .dataframe thead th {\n",
       "        text-align: right;\n",
       "    }\n",
       "</style>\n",
       "<table border=\"1\" class=\"dataframe\">\n",
       "  <thead>\n",
       "    <tr style=\"text-align: right;\">\n",
       "      <th></th>\n",
       "      <th>happy</th>\n",
       "      <th>service_information</th>\n",
       "      <th>housing_cost</th>\n",
       "      <th>public_schools</th>\n",
       "      <th>local_police</th>\n",
       "      <th>streets_sidewalks</th>\n",
       "      <th>community_events</th>\n",
       "    </tr>\n",
       "  </thead>\n",
       "  <tbody>\n",
       "    <tr>\n",
       "      <th>happy</th>\n",
       "      <td>1.000000</td>\n",
       "      <td>0.312740</td>\n",
       "      <td>0.019368</td>\n",
       "      <td>0.163639</td>\n",
       "      <td>0.113356</td>\n",
       "      <td>0.206685</td>\n",
       "      <td>0.220729</td>\n",
       "    </tr>\n",
       "    <tr>\n",
       "      <th>service_information</th>\n",
       "      <td>0.312740</td>\n",
       "      <td>1.000000</td>\n",
       "      <td>0.092676</td>\n",
       "      <td>0.301971</td>\n",
       "      <td>0.104378</td>\n",
       "      <td>0.399203</td>\n",
       "      <td>0.417521</td>\n",
       "    </tr>\n",
       "    <tr>\n",
       "      <th>housing_cost</th>\n",
       "      <td>0.019368</td>\n",
       "      <td>0.092676</td>\n",
       "      <td>1.000000</td>\n",
       "      <td>0.181081</td>\n",
       "      <td>0.107432</td>\n",
       "      <td>-0.002141</td>\n",
       "      <td>0.024546</td>\n",
       "    </tr>\n",
       "    <tr>\n",
       "      <th>public_schools</th>\n",
       "      <td>0.163639</td>\n",
       "      <td>0.301971</td>\n",
       "      <td>0.181081</td>\n",
       "      <td>1.000000</td>\n",
       "      <td>0.298898</td>\n",
       "      <td>0.329874</td>\n",
       "      <td>0.207006</td>\n",
       "    </tr>\n",
       "    <tr>\n",
       "      <th>local_police</th>\n",
       "      <td>0.113356</td>\n",
       "      <td>0.104378</td>\n",
       "      <td>0.107432</td>\n",
       "      <td>0.298898</td>\n",
       "      <td>1.000000</td>\n",
       "      <td>0.269420</td>\n",
       "      <td>0.199151</td>\n",
       "    </tr>\n",
       "    <tr>\n",
       "      <th>streets_sidewalks</th>\n",
       "      <td>0.206685</td>\n",
       "      <td>0.399203</td>\n",
       "      <td>-0.002141</td>\n",
       "      <td>0.329874</td>\n",
       "      <td>0.269420</td>\n",
       "      <td>1.000000</td>\n",
       "      <td>0.307402</td>\n",
       "    </tr>\n",
       "    <tr>\n",
       "      <th>community_events</th>\n",
       "      <td>0.220729</td>\n",
       "      <td>0.417521</td>\n",
       "      <td>0.024546</td>\n",
       "      <td>0.207006</td>\n",
       "      <td>0.199151</td>\n",
       "      <td>0.307402</td>\n",
       "      <td>1.000000</td>\n",
       "    </tr>\n",
       "  </tbody>\n",
       "</table>\n",
       "</div>"
      ],
      "text/plain": [
       "                        happy  service_information  housing_cost  \\\n",
       "happy                1.000000             0.312740      0.019368   \n",
       "service_information  0.312740             1.000000      0.092676   \n",
       "housing_cost         0.019368             0.092676      1.000000   \n",
       "public_schools       0.163639             0.301971      0.181081   \n",
       "local_police         0.113356             0.104378      0.107432   \n",
       "streets_sidewalks    0.206685             0.399203     -0.002141   \n",
       "community_events     0.220729             0.417521      0.024546   \n",
       "\n",
       "                     public_schools  local_police  streets_sidewalks  \\\n",
       "happy                      0.163639      0.113356           0.206685   \n",
       "service_information        0.301971      0.104378           0.399203   \n",
       "housing_cost               0.181081      0.107432          -0.002141   \n",
       "public_schools             1.000000      0.298898           0.329874   \n",
       "local_police               0.298898      1.000000           0.269420   \n",
       "streets_sidewalks          0.329874      0.269420           1.000000   \n",
       "community_events           0.207006      0.199151           0.307402   \n",
       "\n",
       "                     community_events  \n",
       "happy                        0.220729  \n",
       "service_information          0.417521  \n",
       "housing_cost                 0.024546  \n",
       "public_schools               0.207006  \n",
       "local_police                 0.199151  \n",
       "streets_sidewalks            0.307402  \n",
       "community_events             1.000000  "
      ]
     },
     "execution_count": 85,
     "metadata": {},
     "output_type": "execute_result"
    }
   ],
   "source": [
    "#Correlation score does not show any strong correlation (above 0.5) between any of the features\n",
    "#This is helpful for the regression to avoid Colinearity\n",
    "data.corr()"
   ]
  },
  {
   "cell_type": "code",
   "execution_count": 100,
   "metadata": {},
   "outputs": [
    {
     "data": {
      "text/plain": [
       "LogisticRegression(C=1.0, class_weight=None, dual=False, fit_intercept=True,\n",
       "          intercept_scaling=1, max_iter=100, multi_class='ovr', n_jobs=1,\n",
       "          penalty='l2', random_state=None, solver='liblinear', tol=0.0001,\n",
       "          verbose=0, warm_start=False)"
      ]
     },
     "execution_count": 100,
     "metadata": {},
     "output_type": "execute_result"
    }
   ],
   "source": [
    "#Time to do the logistic regression\n",
    "#Import train test split to create training and test data\n",
    "from sklearn.model_selection import train_test_split\n",
    "from sklearn.linear_model import LogisticRegression\n",
    "\n",
    "#We split the data\n",
    "X_train, X_test, y_train, y_test = train_test_split(data_features, data_target['happy'], \n",
    "                                                    test_size=0.3, random_state=0)\n",
    "logreg = LogisticRegression() #We create logistic regressor object\n",
    "logreg.fit(X_train, y_train) #We fit the training data"
   ]
  },
  {
   "cell_type": "code",
   "execution_count": 101,
   "metadata": {},
   "outputs": [
    {
     "name": "stdout",
     "output_type": "stream",
     "text": [
      "Accuracy of logistic regression classifier on test set: 0.58\n"
     ]
    }
   ],
   "source": [
    "#We predict on test data and compute an accuracy score\n",
    "y_pred = logreg.predict(X_test)\n",
    "print('Accuracy of logistic regression classifier on test set: {:.2f}'.format(logreg.score(X_test, y_test)))"
   ]
  },
  {
   "cell_type": "markdown",
   "metadata": {},
   "source": [
    "The prediction is not so great. The model predicts correctly just a little over half of the time"
   ]
  },
  {
   "cell_type": "code",
   "execution_count": 102,
   "metadata": {},
   "outputs": [
    {
     "name": "stdout",
     "output_type": "stream",
     "text": [
      "[[ 4 15]\n",
      " [ 3 21]]\n"
     ]
    }
   ],
   "source": [
    "#We use the confusion matrix:\n",
    "from sklearn.metrics import confusion_matrix\n",
    "confusion_matrix = confusion_matrix(y_test, y_pred)\n",
    "print(confusion_matrix)"
   ]
  },
  {
   "cell_type": "markdown",
   "metadata": {},
   "source": [
    "The result is telling us that the:\n",
    "Model predicted only 4 + 21 = 25 test data correct, and \n",
    "Model predicted wrongly 3 + 15 = 18 test data incorrectly."
   ]
  },
  {
   "cell_type": "code",
   "execution_count": 103,
   "metadata": {},
   "outputs": [
    {
     "name": "stdout",
     "output_type": "stream",
     "text": [
      "             precision    recall  f1-score   support\n",
      "\n",
      "          0       0.57      0.21      0.31        19\n",
      "          1       0.58      0.88      0.70        24\n",
      "\n",
      "avg / total       0.58      0.58      0.53        43\n",
      "\n"
     ]
    }
   ],
   "source": [
    "#I also compute the precision recall:\n",
    "from sklearn.metrics import classification_report\n",
    "print(classification_report(y_test, y_pred))"
   ]
  },
  {
   "cell_type": "markdown",
   "metadata": {},
   "source": [
    "The precision is the ability of the classifier to not label a sample as positive if it is negative.\n",
    "The recall is the ability of the classifier to find all the positive samples.\n",
    "Interpretation: The output tells us that of the entire test set, 58% were predicted accurately. \n",
    "The recall score shows that the true positive rate was 88% for happiness, but 21% for unhappy. This means we have a lower count of false negatives, but a higher count of false positives. "
   ]
  },
  {
   "cell_type": "markdown",
   "metadata": {},
   "source": [
    "My conclusion from the precision score and the logistic regression output is that it is hard for a model to predict whether a person is happy or unhappy based on people's response in this data set.\n",
    "We saw hints of this from the begining in the scatterplot: there was no clear correlation between happiness and any of the features. People are going to be happy or unhappy with their city services regardless of their individual responses to the features."
   ]
  },
  {
   "cell_type": "code",
   "execution_count": null,
   "metadata": {},
   "outputs": [],
   "source": []
  }
 ],
 "metadata": {
  "kernelspec": {
   "display_name": "Python 3",
   "language": "python",
   "name": "python3"
  },
  "language_info": {
   "codemirror_mode": {
    "name": "ipython",
    "version": 3
   },
   "file_extension": ".py",
   "mimetype": "text/x-python",
   "name": "python",
   "nbconvert_exporter": "python",
   "pygments_lexer": "ipython3",
   "version": "3.6.5"
  }
 },
 "nbformat": 4,
 "nbformat_minor": 2
}
